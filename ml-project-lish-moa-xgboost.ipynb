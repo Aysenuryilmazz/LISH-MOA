{
 "cells": [
  {
   "cell_type": "code",
   "execution_count": 1,
   "metadata": {
    "execution": {
     "iopub.execute_input": "2021-01-17T21:01:14.728175Z",
     "iopub.status.busy": "2021-01-17T21:01:14.727262Z",
     "iopub.status.idle": "2021-01-17T21:01:15.538517Z",
     "shell.execute_reply": "2021-01-17T21:01:15.537972Z"
    },
    "papermill": {
     "duration": 0.841723,
     "end_time": "2021-01-17T21:01:15.538633",
     "exception": false,
     "start_time": "2021-01-17T21:01:14.696910",
     "status": "completed"
    },
    "tags": []
   },
   "outputs": [],
   "source": [
    "import sys\n",
    "sys.path.append('../input/iterativestratification')\n",
    "from iterstrat.ml_stratifiers import MultilabelStratifiedKFold"
   ]
  },
  {
   "cell_type": "code",
   "execution_count": 2,
   "metadata": {
    "_cell_guid": "b1076dfc-b9ad-4769-8c92-a6c4dae69d19",
    "_uuid": "8f2839f25d086af736a60e9eeb907d3b93b6e0e5",
    "execution": {
     "iopub.execute_input": "2021-01-17T21:01:15.584812Z",
     "iopub.status.busy": "2021-01-17T21:01:15.584212Z",
     "iopub.status.idle": "2021-01-17T21:01:20.055733Z",
     "shell.execute_reply": "2021-01-17T21:01:20.054888Z"
    },
    "papermill": {
     "duration": 4.497833,
     "end_time": "2021-01-17T21:01:20.055851",
     "exception": false,
     "start_time": "2021-01-17T21:01:15.558018",
     "status": "completed"
    },
    "tags": []
   },
   "outputs": [],
   "source": [
    "import numpy as np\n",
    "import pandas as pd\n",
    "import os\n",
    "import random\n",
    "from sklearn import preprocessing\n",
    "from sklearn.metrics import log_loss\n",
    "from sklearn.preprocessing import StandardScaler\n",
    "from sklearn.decomposition import PCA\n",
    "from sklearn.preprocessing import QuantileTransformer\n",
    "from sklearn.feature_selection import VarianceThreshold, SelectKBest\n",
    "from sklearn.multioutput import MultiOutputClassifier\n",
    "from xgboost import XGBClassifier\n",
    "from category_encoders import CountEncoder\n",
    "from sklearn.pipeline import Pipeline\n",
    "import matplotlib.pyplot as plt\n",
    "import os\n",
    "import warnings\n",
    "warnings.filterwarnings('ignore')"
   ]
  },
  {
   "cell_type": "markdown",
   "metadata": {
    "papermill": {
     "duration": 0.018756,
     "end_time": "2021-01-17T21:01:20.093990",
     "exception": false,
     "start_time": "2021-01-17T21:01:20.075234",
     "status": "completed"
    },
    "tags": []
   },
   "source": [
    "# read datasets"
   ]
  },
  {
   "cell_type": "code",
   "execution_count": 3,
   "metadata": {
    "_cell_guid": "79c7e3d0-c299-4dcb-8224-4455121ee9b0",
    "_uuid": "d629ff2d2480ee46fbb7e2d37f6b5fab8052498a",
    "execution": {
     "iopub.execute_input": "2021-01-17T21:01:20.145333Z",
     "iopub.status.busy": "2021-01-17T21:01:20.144682Z",
     "iopub.status.idle": "2021-01-17T21:01:27.821371Z",
     "shell.execute_reply": "2021-01-17T21:01:27.820735Z"
    },
    "papermill": {
     "duration": 7.708177,
     "end_time": "2021-01-17T21:01:27.821476",
     "exception": false,
     "start_time": "2021-01-17T21:01:20.113299",
     "status": "completed"
    },
    "tags": []
   },
   "outputs": [],
   "source": [
    "train_features = pd.read_csv('../input/lish-moa/train_features.csv')\n",
    "train_targets_scored = pd.read_csv('../input/lish-moa/train_targets_scored.csv')\n",
    "train_targets_nonscored = pd.read_csv('../input/lish-moa/train_targets_nonscored.csv')\n",
    "test_features = pd.read_csv('../input/lish-moa/test_features.csv')\n",
    "train_drug = pd.read_csv(\"../input/lish-moa/train_drug.csv\")\n",
    "\n",
    "data = train_features.append(test_features)\n",
    "\n",
    "ss = pd.read_csv('../input/lish-moa/sample_submission.csv')"
   ]
  },
  {
   "cell_type": "markdown",
   "metadata": {
    "papermill": {
     "duration": 0.01892,
     "end_time": "2021-01-17T21:01:27.859579",
     "exception": false,
     "start_time": "2021-01-17T21:01:27.840659",
     "status": "completed"
    },
    "tags": []
   },
   "source": [
    "# main parameters \n",
    "\n",
    "from https://www.kaggle.com/vbmokin/moa-pytorch-rankgauss-pca-nn-upgrade-3d-visual\n"
   ]
  },
  {
   "cell_type": "code",
   "execution_count": 4,
   "metadata": {
    "execution": {
     "iopub.execute_input": "2021-01-17T21:01:27.902831Z",
     "iopub.status.busy": "2021-01-17T21:01:27.901104Z",
     "iopub.status.idle": "2021-01-17T21:01:27.903470Z",
     "shell.execute_reply": "2021-01-17T21:01:27.903876Z"
    },
    "papermill": {
     "duration": 0.025656,
     "end_time": "2021-01-17T21:01:27.903988",
     "exception": false,
     "start_time": "2021-01-17T21:01:27.878332",
     "status": "completed"
    },
    "tags": []
   },
   "outputs": [],
   "source": [
    "n_comp_GENES = 463\n",
    "n_comp_CELLS = 60\n",
    "VarianceThreshold_for_FS = 0.9\n",
    "NFOLDS = 5"
   ]
  },
  {
   "cell_type": "markdown",
   "metadata": {
    "papermill": {
     "duration": 0.018497,
     "end_time": "2021-01-17T21:01:27.941732",
     "exception": false,
     "start_time": "2021-01-17T21:01:27.923235",
     "status": "completed"
    },
    "tags": []
   },
   "source": [
    "# set seeds"
   ]
  },
  {
   "cell_type": "code",
   "execution_count": 5,
   "metadata": {
    "execution": {
     "iopub.execute_input": "2021-01-17T21:01:27.984731Z",
     "iopub.status.busy": "2021-01-17T21:01:27.983980Z",
     "iopub.status.idle": "2021-01-17T21:01:27.986730Z",
     "shell.execute_reply": "2021-01-17T21:01:27.986108Z"
    },
    "papermill": {
     "duration": 0.026482,
     "end_time": "2021-01-17T21:01:27.986825",
     "exception": false,
     "start_time": "2021-01-17T21:01:27.960343",
     "status": "completed"
    },
    "tags": []
   },
   "outputs": [],
   "source": [
    "def seed_everything(seed=42):\n",
    "    random.seed(seed)\n",
    "    os.environ['PYTHONHASHSEED'] = str(seed)\n",
    "    np.random.seed(seed)\n",
    "    #torch.manual_seed(seed)\n",
    "    #torch.cuda.manual_seed(seed)\n",
    "    #torch.backends.cudnn.deterministic = True\n",
    "    \n",
    "seed_everything(seed=42)"
   ]
  },
  {
   "cell_type": "markdown",
   "metadata": {
    "papermill": {
     "duration": 0.01902,
     "end_time": "2021-01-17T21:01:28.024849",
     "exception": false,
     "start_time": "2021-01-17T21:01:28.005829",
     "status": "completed"
    },
    "tags": []
   },
   "source": [
    "# transform columns to normal dist with rankgauss (QuantileTransformer)"
   ]
  },
  {
   "cell_type": "code",
   "execution_count": 6,
   "metadata": {
    "execution": {
     "iopub.execute_input": "2021-01-17T21:01:28.069479Z",
     "iopub.status.busy": "2021-01-17T21:01:28.067683Z",
     "iopub.status.idle": "2021-01-17T21:01:28.070063Z",
     "shell.execute_reply": "2021-01-17T21:01:28.070491Z"
    },
    "papermill": {
     "duration": 0.026926,
     "end_time": "2021-01-17T21:01:28.070595",
     "exception": false,
     "start_time": "2021-01-17T21:01:28.043669",
     "status": "completed"
    },
    "tags": []
   },
   "outputs": [],
   "source": [
    "GENES = [col for col in train_features.columns if col.startswith('g-')]\n",
    "CELLS = [col for col in train_features.columns if col.startswith('c-')]"
   ]
  },
  {
   "cell_type": "code",
   "execution_count": 7,
   "metadata": {
    "execution": {
     "iopub.execute_input": "2021-01-17T21:01:28.113512Z",
     "iopub.status.busy": "2021-01-17T21:01:28.112360Z",
     "iopub.status.idle": "2021-01-17T21:01:28.115059Z",
     "shell.execute_reply": "2021-01-17T21:01:28.115499Z"
    },
    "papermill": {
     "duration": 0.025892,
     "end_time": "2021-01-17T21:01:28.115600",
     "exception": false,
     "start_time": "2021-01-17T21:01:28.089708",
     "status": "completed"
    },
    "tags": []
   },
   "outputs": [],
   "source": [
    "col_names = GENES + CELLS\n",
    "col_example_index = 300\n",
    "col_example_name = col_names[300]"
   ]
  },
  {
   "cell_type": "code",
   "execution_count": 8,
   "metadata": {
    "execution": {
     "iopub.execute_input": "2021-01-17T21:01:28.160574Z",
     "iopub.status.busy": "2021-01-17T21:01:28.159975Z",
     "iopub.status.idle": "2021-01-17T21:01:28.479937Z",
     "shell.execute_reply": "2021-01-17T21:01:28.479513Z"
    },
    "papermill": {
     "duration": 0.344907,
     "end_time": "2021-01-17T21:01:28.480033",
     "exception": false,
     "start_time": "2021-01-17T21:01:28.135126",
     "status": "completed"
    },
    "tags": []
   },
   "outputs": [
    {
     "data": {
      "image/png": "[encoded data removed]",
      "text/plain": [
       "<Figure size 432x288 with 1 Axes>"
      ]
     },
     "metadata": {
      "needs_background": "light"
     },
     "output_type": "display_data"
    }
   ],
   "source": [
    "fig = plt.figure()\n",
    "plt.hist(train_features.iloc[:,col_example_index+4].values, bins=100, density= True)\n",
    "plt.ylabel('Probability')\n",
    "plt.xlabel(col_example_name)\n",
    "plt.title('Raw feature distribution');"
   ]
  },
  {
   "cell_type": "code",
   "execution_count": 9,
   "metadata": {
    "execution": {
     "iopub.execute_input": "2021-01-17T21:01:28.527246Z",
     "iopub.status.busy": "2021-01-17T21:01:28.526254Z",
     "iopub.status.idle": "2021-01-17T21:01:28.911208Z",
     "shell.execute_reply": "2021-01-17T21:01:28.911641Z"
    },
    "papermill": {
     "duration": 0.411058,
     "end_time": "2021-01-17T21:01:28.911762",
     "exception": false,
     "start_time": "2021-01-17T21:01:28.500704",
     "status": "completed"
    },
    "tags": []
   },
   "outputs": [
    {
     "data": {
      "image/png": "[encoded data removed]",
      "text/plain": [
       "<Figure size 432x288 with 1 Axes>"
      ]
     },
     "metadata": {
      "needs_background": "light"
     },
     "output_type": "display_data"
    }
   ],
   "source": [
    "transformer = QuantileTransformer(n_quantiles=50,random_state=0, output_distribution=\"normal\")\n",
    "fig = plt.figure()\n",
    "plt.hist(transformer.fit_transform(train_features.iloc[:,col_example_index+4].values.reshape(-1,1)), bins=100, density= True)\n",
    "\n",
    "plt.ylabel('Probability')\n",
    "plt.xlabel(col_example_name)\n",
    "plt.title('Transformed feature distribution');"
   ]
  },
  {
   "cell_type": "code",
   "execution_count": 10,
   "metadata": {
    "execution": {
     "iopub.execute_input": "2021-01-17T21:01:28.969484Z",
     "iopub.status.busy": "2021-01-17T21:01:28.968681Z",
     "iopub.status.idle": "2021-01-17T21:01:37.312757Z",
     "shell.execute_reply": "2021-01-17T21:01:37.311765Z"
    },
    "papermill": {
     "duration": 8.37865,
     "end_time": "2021-01-17T21:01:37.312873",
     "exception": false,
     "start_time": "2021-01-17T21:01:28.934223",
     "status": "completed"
    },
    "tags": []
   },
   "outputs": [],
   "source": [
    "# quantile transformer normal dist --> \n",
    "for col in (GENES + CELLS):    \n",
    "    transformer = QuantileTransformer(n_quantiles=100,random_state=0, output_distribution=\"normal\")\n",
    "    vec_len = len(train_features[col].values)\n",
    "    vec_len_test = len(test_features[col].values)\n",
    "    raw_vec = train_features[col].values.reshape(vec_len, 1)\n",
    "    transformer.fit(raw_vec)\n",
    "\n",
    "    train_features[col] = transformer.transform(raw_vec).reshape(1, vec_len)[0]\n",
    "    test_features[col] = transformer.transform(test_features[col].values.reshape(vec_len_test, 1)).reshape(1, vec_len_test)[0]"
   ]
  },
  {
   "cell_type": "markdown",
   "metadata": {
    "papermill": {
     "duration": 0.020974,
     "end_time": "2021-01-17T21:01:37.355532",
     "exception": false,
     "start_time": "2021-01-17T21:01:37.334558",
     "status": "completed"
    },
    "tags": []
   },
   "source": [
    "# dimensionality reduction with pca "
   ]
  },
  {
   "cell_type": "code",
   "execution_count": 11,
   "metadata": {
    "execution": {
     "iopub.execute_input": "2021-01-17T21:01:37.402816Z",
     "iopub.status.busy": "2021-01-17T21:01:37.401585Z",
     "iopub.status.idle": "2021-01-17T21:01:37.404887Z",
     "shell.execute_reply": "2021-01-17T21:01:37.405302Z"
    },
    "papermill": {
     "duration": 0.029153,
     "end_time": "2021-01-17T21:01:37.405406",
     "exception": false,
     "start_time": "2021-01-17T21:01:37.376253",
     "status": "completed"
    },
    "tags": []
   },
   "outputs": [
    {
     "data": {
      "text/plain": [
       "772"
      ]
     },
     "execution_count": 11,
     "metadata": {},
     "output_type": "execute_result"
    }
   ],
   "source": [
    "len(GENES)"
   ]
  },
  {
   "cell_type": "code",
   "execution_count": 12,
   "metadata": {
    "execution": {
     "iopub.execute_input": "2021-01-17T21:01:37.533596Z",
     "iopub.status.busy": "2021-01-17T21:01:37.532278Z",
     "iopub.status.idle": "2021-01-17T21:01:44.896287Z",
     "shell.execute_reply": "2021-01-17T21:01:44.895323Z"
    },
    "papermill": {
     "duration": 7.438274,
     "end_time": "2021-01-17T21:01:44.896406",
     "exception": false,
     "start_time": "2021-01-17T21:01:37.458132",
     "status": "completed"
    },
    "tags": []
   },
   "outputs": [],
   "source": [
    "# GENES\n",
    "\n",
    "data = pd.concat([pd.DataFrame(train_features[GENES]), pd.DataFrame(test_features[GENES])])\n",
    "data2 = (PCA(n_components=n_comp_GENES, random_state=42).fit_transform(data[GENES]))\n",
    "train2 = data2[:train_features.shape[0]]; test2 = data2[-test_features.shape[0]:]\n",
    "\n",
    "train2 = pd.DataFrame(train2, columns=[f'pca_G-{i}' for i in range(n_comp_GENES)])\n",
    "test2 = pd.DataFrame(test2, columns=[f'pca_G-{i}' for i in range(n_comp_GENES)])\n",
    "\n",
    "train_features = pd.concat((train_features, train2), axis=1)\n",
    "test_features = pd.concat((test_features, test2), axis=1)"
   ]
  },
  {
   "cell_type": "code",
   "execution_count": 13,
   "metadata": {
    "execution": {
     "iopub.execute_input": "2021-01-17T21:01:44.944899Z",
     "iopub.status.busy": "2021-01-17T21:01:44.944257Z",
     "iopub.status.idle": "2021-01-17T21:01:44.947489Z",
     "shell.execute_reply": "2021-01-17T21:01:44.947883Z"
    },
    "papermill": {
     "duration": 0.029863,
     "end_time": "2021-01-17T21:01:44.947990",
     "exception": false,
     "start_time": "2021-01-17T21:01:44.918127",
     "status": "completed"
    },
    "tags": []
   },
   "outputs": [
    {
     "data": {
      "text/plain": [
       "100"
      ]
     },
     "execution_count": 13,
     "metadata": {},
     "output_type": "execute_result"
    }
   ],
   "source": [
    "len(CELLS)"
   ]
  },
  {
   "cell_type": "code",
   "execution_count": 14,
   "metadata": {
    "execution": {
     "iopub.execute_input": "2021-01-17T21:01:45.000803Z",
     "iopub.status.busy": "2021-01-17T21:01:44.999683Z",
     "iopub.status.idle": "2021-01-17T21:01:45.725594Z",
     "shell.execute_reply": "2021-01-17T21:01:45.726127Z"
    },
    "papermill": {
     "duration": 0.756529,
     "end_time": "2021-01-17T21:01:45.726320",
     "exception": false,
     "start_time": "2021-01-17T21:01:44.969791",
     "status": "completed"
    },
    "tags": []
   },
   "outputs": [],
   "source": [
    "# CELLS\n",
    "\n",
    "data = pd.concat([pd.DataFrame(train_features[CELLS]), pd.DataFrame(test_features[CELLS])])\n",
    "data2 = (PCA(n_components=n_comp_CELLS, random_state=42).fit_transform(data[CELLS]))\n",
    "train2 = data2[:train_features.shape[0]]; test2 = data2[-test_features.shape[0]:]\n",
    "\n",
    "train2 = pd.DataFrame(train2, columns=[f'pca_C-{i}' for i in range(n_comp_CELLS)])\n",
    "test2 = pd.DataFrame(test2, columns=[f'pca_C-{i}' for i in range(n_comp_CELLS)])\n",
    "\n",
    "train_features = pd.concat((train_features, train2), axis=1)\n",
    "test_features = pd.concat((test_features, test2), axis=1)"
   ]
  },
  {
   "cell_type": "code",
   "execution_count": 15,
   "metadata": {
    "execution": {
     "iopub.execute_input": "2021-01-17T21:01:45.782321Z",
     "iopub.status.busy": "2021-01-17T21:01:45.781456Z",
     "iopub.status.idle": "2021-01-17T21:01:45.784853Z",
     "shell.execute_reply": "2021-01-17T21:01:45.785518Z"
    },
    "papermill": {
     "duration": 0.035005,
     "end_time": "2021-01-17T21:01:45.785672",
     "exception": false,
     "start_time": "2021-01-17T21:01:45.750667",
     "status": "completed"
    },
    "tags": []
   },
   "outputs": [
    {
     "data": {
      "text/plain": [
       "1399"
      ]
     },
     "execution_count": 15,
     "metadata": {},
     "output_type": "execute_result"
    }
   ],
   "source": [
    "train_features.shape[1]"
   ]
  },
  {
   "cell_type": "code",
   "execution_count": 16,
   "metadata": {
    "execution": {
     "iopub.execute_input": "2021-01-17T21:01:45.853091Z",
     "iopub.status.busy": "2021-01-17T21:01:45.852593Z",
     "iopub.status.idle": "2021-01-17T21:01:45.868390Z",
     "shell.execute_reply": "2021-01-17T21:01:45.867909Z"
    },
    "papermill": {
     "duration": 0.057537,
     "end_time": "2021-01-17T21:01:45.868488",
     "exception": false,
     "start_time": "2021-01-17T21:01:45.810951",
     "status": "completed"
    },
    "tags": []
   },
   "outputs": [
    {
     "data": {
      "text/html": [
       "<div>\n",
       "<style scoped>\n",
       "    .dataframe tbody tr th:only-of-type {\n",
       "        vertical-align: middle;\n",
       "    }\n",
       "\n",
       "    .dataframe tbody tr th {\n",
       "        vertical-align: top;\n",
       "    }\n",
       "\n",
       "    .dataframe thead th {\n",
       "        text-align: right;\n",
       "    }\n",
       "</style>\n",
       "<table border=\"1\" class=\"dataframe\">\n",
       "  <thead>\n",
       "    <tr style=\"text-align: right;\">\n",
       "      <th></th>\n",
       "      <th>sig_id</th>\n",
       "      <th>cp_type</th>\n",
       "      <th>cp_time</th>\n",
       "      <th>cp_dose</th>\n",
       "      <th>g-0</th>\n",
       "      <th>g-1</th>\n",
       "      <th>g-2</th>\n",
       "      <th>g-3</th>\n",
       "      <th>g-4</th>\n",
       "      <th>g-5</th>\n",
       "      <th>...</th>\n",
       "      <th>pca_C-50</th>\n",
       "      <th>pca_C-51</th>\n",
       "      <th>pca_C-52</th>\n",
       "      <th>pca_C-53</th>\n",
       "      <th>pca_C-54</th>\n",
       "      <th>pca_C-55</th>\n",
       "      <th>pca_C-56</th>\n",
       "      <th>pca_C-57</th>\n",
       "      <th>pca_C-58</th>\n",
       "      <th>pca_C-59</th>\n",
       "    </tr>\n",
       "  </thead>\n",
       "  <tbody>\n",
       "    <tr>\n",
       "      <th>0</th>\n",
       "      <td>id_000644bb2</td>\n",
       "      <td>trt_cp</td>\n",
       "      <td>24</td>\n",
       "      <td>D1</td>\n",
       "      <td>1.134849</td>\n",
       "      <td>0.907687</td>\n",
       "      <td>-0.416385</td>\n",
       "      <td>-0.966814</td>\n",
       "      <td>-0.254723</td>\n",
       "      <td>-1.017473</td>\n",
       "      <td>...</td>\n",
       "      <td>-0.514146</td>\n",
       "      <td>0.727106</td>\n",
       "      <td>0.631370</td>\n",
       "      <td>0.588790</td>\n",
       "      <td>-0.623881</td>\n",
       "      <td>-0.584221</td>\n",
       "      <td>0.139658</td>\n",
       "      <td>-0.748875</td>\n",
       "      <td>-0.090711</td>\n",
       "      <td>0.508949</td>\n",
       "    </tr>\n",
       "    <tr>\n",
       "      <th>1</th>\n",
       "      <td>id_000779bfc</td>\n",
       "      <td>trt_cp</td>\n",
       "      <td>72</td>\n",
       "      <td>D1</td>\n",
       "      <td>0.119282</td>\n",
       "      <td>0.681738</td>\n",
       "      <td>0.272399</td>\n",
       "      <td>0.080113</td>\n",
       "      <td>1.205169</td>\n",
       "      <td>0.686517</td>\n",
       "      <td>...</td>\n",
       "      <td>-1.439262</td>\n",
       "      <td>0.508808</td>\n",
       "      <td>1.712656</td>\n",
       "      <td>-0.095448</td>\n",
       "      <td>-0.052959</td>\n",
       "      <td>-0.427382</td>\n",
       "      <td>-0.789533</td>\n",
       "      <td>-0.677906</td>\n",
       "      <td>-0.006642</td>\n",
       "      <td>0.581791</td>\n",
       "    </tr>\n",
       "    <tr>\n",
       "      <th>2</th>\n",
       "      <td>id_000a6266a</td>\n",
       "      <td>trt_cp</td>\n",
       "      <td>48</td>\n",
       "      <td>D1</td>\n",
       "      <td>0.779973</td>\n",
       "      <td>0.946463</td>\n",
       "      <td>1.425350</td>\n",
       "      <td>-0.132928</td>\n",
       "      <td>-0.006122</td>\n",
       "      <td>1.492493</td>\n",
       "      <td>...</td>\n",
       "      <td>-0.491030</td>\n",
       "      <td>0.259354</td>\n",
       "      <td>-0.724947</td>\n",
       "      <td>0.138275</td>\n",
       "      <td>-0.128793</td>\n",
       "      <td>-1.059011</td>\n",
       "      <td>-1.629201</td>\n",
       "      <td>0.177806</td>\n",
       "      <td>-0.776725</td>\n",
       "      <td>-0.204851</td>\n",
       "    </tr>\n",
       "    <tr>\n",
       "      <th>3</th>\n",
       "      <td>id_0015fd391</td>\n",
       "      <td>trt_cp</td>\n",
       "      <td>48</td>\n",
       "      <td>D1</td>\n",
       "      <td>-0.734910</td>\n",
       "      <td>-0.274641</td>\n",
       "      <td>-0.438509</td>\n",
       "      <td>0.759097</td>\n",
       "      <td>2.346330</td>\n",
       "      <td>-0.858153</td>\n",
       "      <td>...</td>\n",
       "      <td>0.545759</td>\n",
       "      <td>0.197091</td>\n",
       "      <td>-0.058694</td>\n",
       "      <td>0.616253</td>\n",
       "      <td>-0.000931</td>\n",
       "      <td>0.135783</td>\n",
       "      <td>-0.326965</td>\n",
       "      <td>0.131044</td>\n",
       "      <td>0.061892</td>\n",
       "      <td>-0.054619</td>\n",
       "    </tr>\n",
       "    <tr>\n",
       "      <th>4</th>\n",
       "      <td>id_001626bd3</td>\n",
       "      <td>trt_cp</td>\n",
       "      <td>72</td>\n",
       "      <td>D2</td>\n",
       "      <td>-0.452718</td>\n",
       "      <td>-0.477513</td>\n",
       "      <td>0.972316</td>\n",
       "      <td>0.970731</td>\n",
       "      <td>1.463427</td>\n",
       "      <td>-0.869555</td>\n",
       "      <td>...</td>\n",
       "      <td>0.774619</td>\n",
       "      <td>0.630446</td>\n",
       "      <td>0.514879</td>\n",
       "      <td>-0.217948</td>\n",
       "      <td>-0.435192</td>\n",
       "      <td>0.350271</td>\n",
       "      <td>-2.249275</td>\n",
       "      <td>-1.029288</td>\n",
       "      <td>0.098284</td>\n",
       "      <td>-0.397215</td>\n",
       "    </tr>\n",
       "  </tbody>\n",
       "</table>\n",
       "<p>5 rows × 1399 columns</p>\n",
       "</div>"
      ],
      "text/plain": [
       "         sig_id cp_type  cp_time cp_dose       g-0       g-1       g-2  \\\n",
       "0  id_000644bb2  trt_cp       24      D1  1.134849  0.907687 -0.416385   \n",
       "1  id_000779bfc  trt_cp       72      D1  0.119282  0.681738  0.272399   \n",
       "2  id_000a6266a  trt_cp       48      D1  0.779973  0.946463  1.425350   \n",
       "3  id_0015fd391  trt_cp       48      D1 -0.734910 -0.274641 -0.438509   \n",
       "4  id_001626bd3  trt_cp       72      D2 -0.452718 -0.477513  0.972316   \n",
       "\n",
       "        g-3       g-4       g-5  ...  pca_C-50  pca_C-51  pca_C-52  pca_C-53  \\\n",
       "0 -0.966814 -0.254723 -1.017473  ... -0.514146  0.727106  0.631370  0.588790   \n",
       "1  0.080113  1.205169  0.686517  ... -1.439262  0.508808  1.712656 -0.095448   \n",
       "2 -0.132928 -0.006122  1.492493  ... -0.491030  0.259354 -0.724947  0.138275   \n",
       "3  0.759097  2.346330 -0.858153  ...  0.545759  0.197091 -0.058694  0.616253   \n",
       "4  0.970731  1.463427 -0.869555  ...  0.774619  0.630446  0.514879 -0.217948   \n",
       "\n",
       "   pca_C-54  pca_C-55  pca_C-56  pca_C-57  pca_C-58  pca_C-59  \n",
       "0 -0.623881 -0.584221  0.139658 -0.748875 -0.090711  0.508949  \n",
       "1 -0.052959 -0.427382 -0.789533 -0.677906 -0.006642  0.581791  \n",
       "2 -0.128793 -1.059011 -1.629201  0.177806 -0.776725 -0.204851  \n",
       "3 -0.000931  0.135783 -0.326965  0.131044  0.061892 -0.054619  \n",
       "4 -0.435192  0.350271 -2.249275 -1.029288  0.098284 -0.397215  \n",
       "\n",
       "[5 rows x 1399 columns]"
      ]
     },
     "execution_count": 16,
     "metadata": {},
     "output_type": "execute_result"
    }
   ],
   "source": [
    "train_features.head(5)"
   ]
  },
  {
   "cell_type": "markdown",
   "metadata": {
    "papermill": {
     "duration": 0.026478,
     "end_time": "2021-01-17T21:01:45.920601",
     "exception": false,
     "start_time": "2021-01-17T21:01:45.894123",
     "status": "completed"
    },
    "tags": []
   },
   "source": [
    "# feature elimination with variance threshold"
   ]
  },
  {
   "cell_type": "code",
   "execution_count": 17,
   "metadata": {
    "execution": {
     "iopub.execute_input": "2021-01-17T21:01:45.977930Z",
     "iopub.status.busy": "2021-01-17T21:01:45.976664Z",
     "iopub.status.idle": "2021-01-17T21:01:46.322551Z",
     "shell.execute_reply": "2021-01-17T21:01:46.322976Z"
    },
    "papermill": {
     "duration": 0.376247,
     "end_time": "2021-01-17T21:01:46.323114",
     "exception": false,
     "start_time": "2021-01-17T21:01:45.946867",
     "status": "completed"
    },
    "tags": []
   },
   "outputs": [
    {
     "data": {
      "text/html": [
       "<div>\n",
       "<style scoped>\n",
       "    .dataframe tbody tr th:only-of-type {\n",
       "        vertical-align: middle;\n",
       "    }\n",
       "\n",
       "    .dataframe tbody tr th {\n",
       "        vertical-align: top;\n",
       "    }\n",
       "\n",
       "    .dataframe thead th {\n",
       "        text-align: right;\n",
       "    }\n",
       "</style>\n",
       "<table border=\"1\" class=\"dataframe\">\n",
       "  <thead>\n",
       "    <tr style=\"text-align: right;\">\n",
       "      <th></th>\n",
       "      <th>sig_id</th>\n",
       "      <th>cp_type</th>\n",
       "      <th>cp_time</th>\n",
       "      <th>cp_dose</th>\n",
       "      <th>g-0</th>\n",
       "      <th>g-1</th>\n",
       "      <th>g-2</th>\n",
       "      <th>g-3</th>\n",
       "      <th>g-4</th>\n",
       "      <th>g-5</th>\n",
       "      <th>...</th>\n",
       "      <th>pca_C-50</th>\n",
       "      <th>pca_C-51</th>\n",
       "      <th>pca_C-52</th>\n",
       "      <th>pca_C-53</th>\n",
       "      <th>pca_C-54</th>\n",
       "      <th>pca_C-55</th>\n",
       "      <th>pca_C-56</th>\n",
       "      <th>pca_C-57</th>\n",
       "      <th>pca_C-58</th>\n",
       "      <th>pca_C-59</th>\n",
       "    </tr>\n",
       "  </thead>\n",
       "  <tbody>\n",
       "    <tr>\n",
       "      <th>0</th>\n",
       "      <td>id_000644bb2</td>\n",
       "      <td>trt_cp</td>\n",
       "      <td>24</td>\n",
       "      <td>D1</td>\n",
       "      <td>1.134849</td>\n",
       "      <td>0.907687</td>\n",
       "      <td>-0.416385</td>\n",
       "      <td>-0.966814</td>\n",
       "      <td>-0.254723</td>\n",
       "      <td>-1.017473</td>\n",
       "      <td>...</td>\n",
       "      <td>-0.514146</td>\n",
       "      <td>0.727106</td>\n",
       "      <td>0.631370</td>\n",
       "      <td>0.588790</td>\n",
       "      <td>-0.623881</td>\n",
       "      <td>-0.584221</td>\n",
       "      <td>0.139658</td>\n",
       "      <td>-0.748875</td>\n",
       "      <td>-0.090711</td>\n",
       "      <td>0.508949</td>\n",
       "    </tr>\n",
       "    <tr>\n",
       "      <th>1</th>\n",
       "      <td>id_000779bfc</td>\n",
       "      <td>trt_cp</td>\n",
       "      <td>72</td>\n",
       "      <td>D1</td>\n",
       "      <td>0.119282</td>\n",
       "      <td>0.681738</td>\n",
       "      <td>0.272399</td>\n",
       "      <td>0.080113</td>\n",
       "      <td>1.205169</td>\n",
       "      <td>0.686517</td>\n",
       "      <td>...</td>\n",
       "      <td>-1.439262</td>\n",
       "      <td>0.508808</td>\n",
       "      <td>1.712656</td>\n",
       "      <td>-0.095448</td>\n",
       "      <td>-0.052959</td>\n",
       "      <td>-0.427382</td>\n",
       "      <td>-0.789533</td>\n",
       "      <td>-0.677906</td>\n",
       "      <td>-0.006642</td>\n",
       "      <td>0.581791</td>\n",
       "    </tr>\n",
       "    <tr>\n",
       "      <th>2</th>\n",
       "      <td>id_000a6266a</td>\n",
       "      <td>trt_cp</td>\n",
       "      <td>48</td>\n",
       "      <td>D1</td>\n",
       "      <td>0.779973</td>\n",
       "      <td>0.946463</td>\n",
       "      <td>1.425350</td>\n",
       "      <td>-0.132928</td>\n",
       "      <td>-0.006122</td>\n",
       "      <td>1.492493</td>\n",
       "      <td>...</td>\n",
       "      <td>-0.491030</td>\n",
       "      <td>0.259354</td>\n",
       "      <td>-0.724947</td>\n",
       "      <td>0.138275</td>\n",
       "      <td>-0.128793</td>\n",
       "      <td>-1.059011</td>\n",
       "      <td>-1.629201</td>\n",
       "      <td>0.177806</td>\n",
       "      <td>-0.776725</td>\n",
       "      <td>-0.204851</td>\n",
       "    </tr>\n",
       "    <tr>\n",
       "      <th>3</th>\n",
       "      <td>id_0015fd391</td>\n",
       "      <td>trt_cp</td>\n",
       "      <td>48</td>\n",
       "      <td>D1</td>\n",
       "      <td>-0.734910</td>\n",
       "      <td>-0.274641</td>\n",
       "      <td>-0.438509</td>\n",
       "      <td>0.759097</td>\n",
       "      <td>2.346330</td>\n",
       "      <td>-0.858153</td>\n",
       "      <td>...</td>\n",
       "      <td>0.545759</td>\n",
       "      <td>0.197091</td>\n",
       "      <td>-0.058694</td>\n",
       "      <td>0.616253</td>\n",
       "      <td>-0.000931</td>\n",
       "      <td>0.135783</td>\n",
       "      <td>-0.326965</td>\n",
       "      <td>0.131044</td>\n",
       "      <td>0.061892</td>\n",
       "      <td>-0.054619</td>\n",
       "    </tr>\n",
       "    <tr>\n",
       "      <th>4</th>\n",
       "      <td>id_001626bd3</td>\n",
       "      <td>trt_cp</td>\n",
       "      <td>72</td>\n",
       "      <td>D2</td>\n",
       "      <td>-0.452718</td>\n",
       "      <td>-0.477513</td>\n",
       "      <td>0.972316</td>\n",
       "      <td>0.970731</td>\n",
       "      <td>1.463427</td>\n",
       "      <td>-0.869555</td>\n",
       "      <td>...</td>\n",
       "      <td>0.774619</td>\n",
       "      <td>0.630446</td>\n",
       "      <td>0.514879</td>\n",
       "      <td>-0.217948</td>\n",
       "      <td>-0.435192</td>\n",
       "      <td>0.350271</td>\n",
       "      <td>-2.249275</td>\n",
       "      <td>-1.029288</td>\n",
       "      <td>0.098284</td>\n",
       "      <td>-0.397215</td>\n",
       "    </tr>\n",
       "    <tr>\n",
       "      <th>...</th>\n",
       "      <td>...</td>\n",
       "      <td>...</td>\n",
       "      <td>...</td>\n",
       "      <td>...</td>\n",
       "      <td>...</td>\n",
       "      <td>...</td>\n",
       "      <td>...</td>\n",
       "      <td>...</td>\n",
       "      <td>...</td>\n",
       "      <td>...</td>\n",
       "      <td>...</td>\n",
       "      <td>...</td>\n",
       "      <td>...</td>\n",
       "      <td>...</td>\n",
       "      <td>...</td>\n",
       "      <td>...</td>\n",
       "      <td>...</td>\n",
       "      <td>...</td>\n",
       "      <td>...</td>\n",
       "      <td>...</td>\n",
       "      <td>...</td>\n",
       "    </tr>\n",
       "    <tr>\n",
       "      <th>3977</th>\n",
       "      <td>id_ff7004b87</td>\n",
       "      <td>trt_cp</td>\n",
       "      <td>24</td>\n",
       "      <td>D1</td>\n",
       "      <td>0.599272</td>\n",
       "      <td>-0.691298</td>\n",
       "      <td>2.335275</td>\n",
       "      <td>-0.965903</td>\n",
       "      <td>1.073011</td>\n",
       "      <td>1.784340</td>\n",
       "      <td>...</td>\n",
       "      <td>0.547616</td>\n",
       "      <td>0.375451</td>\n",
       "      <td>-0.789073</td>\n",
       "      <td>0.444972</td>\n",
       "      <td>-0.369285</td>\n",
       "      <td>-0.345567</td>\n",
       "      <td>-0.836058</td>\n",
       "      <td>-0.262109</td>\n",
       "      <td>-0.338685</td>\n",
       "      <td>0.761653</td>\n",
       "    </tr>\n",
       "    <tr>\n",
       "      <th>3978</th>\n",
       "      <td>id_ff925dd0d</td>\n",
       "      <td>trt_cp</td>\n",
       "      <td>24</td>\n",
       "      <td>D1</td>\n",
       "      <td>-0.844395</td>\n",
       "      <td>-0.282043</td>\n",
       "      <td>2.006827</td>\n",
       "      <td>0.507512</td>\n",
       "      <td>0.643034</td>\n",
       "      <td>0.434686</td>\n",
       "      <td>...</td>\n",
       "      <td>-0.182719</td>\n",
       "      <td>0.482303</td>\n",
       "      <td>-0.059722</td>\n",
       "      <td>-0.447048</td>\n",
       "      <td>0.031236</td>\n",
       "      <td>-0.097593</td>\n",
       "      <td>1.001712</td>\n",
       "      <td>-0.248932</td>\n",
       "      <td>0.681888</td>\n",
       "      <td>1.311962</td>\n",
       "    </tr>\n",
       "    <tr>\n",
       "      <th>3979</th>\n",
       "      <td>id_ffb710450</td>\n",
       "      <td>trt_cp</td>\n",
       "      <td>72</td>\n",
       "      <td>D1</td>\n",
       "      <td>-0.563702</td>\n",
       "      <td>-0.146343</td>\n",
       "      <td>0.232721</td>\n",
       "      <td>-1.052568</td>\n",
       "      <td>0.066341</td>\n",
       "      <td>0.635259</td>\n",
       "      <td>...</td>\n",
       "      <td>0.365366</td>\n",
       "      <td>-0.406966</td>\n",
       "      <td>0.172072</td>\n",
       "      <td>-0.337644</td>\n",
       "      <td>0.337394</td>\n",
       "      <td>-0.835286</td>\n",
       "      <td>0.458107</td>\n",
       "      <td>0.592310</td>\n",
       "      <td>-0.137111</td>\n",
       "      <td>0.143073</td>\n",
       "    </tr>\n",
       "    <tr>\n",
       "      <th>3980</th>\n",
       "      <td>id_ffbb869f2</td>\n",
       "      <td>trt_cp</td>\n",
       "      <td>48</td>\n",
       "      <td>D2</td>\n",
       "      <td>-1.591078</td>\n",
       "      <td>-1.924736</td>\n",
       "      <td>-0.619409</td>\n",
       "      <td>1.321092</td>\n",
       "      <td>-1.622643</td>\n",
       "      <td>-0.263479</td>\n",
       "      <td>...</td>\n",
       "      <td>1.210053</td>\n",
       "      <td>0.023657</td>\n",
       "      <td>0.814503</td>\n",
       "      <td>-0.778416</td>\n",
       "      <td>0.715037</td>\n",
       "      <td>0.284688</td>\n",
       "      <td>-1.656575</td>\n",
       "      <td>-0.538254</td>\n",
       "      <td>-1.241811</td>\n",
       "      <td>-0.748269</td>\n",
       "    </tr>\n",
       "    <tr>\n",
       "      <th>3981</th>\n",
       "      <td>id_ffd5800b6</td>\n",
       "      <td>trt_cp</td>\n",
       "      <td>72</td>\n",
       "      <td>D1</td>\n",
       "      <td>-0.740040</td>\n",
       "      <td>0.509977</td>\n",
       "      <td>0.308699</td>\n",
       "      <td>-0.080621</td>\n",
       "      <td>-0.080190</td>\n",
       "      <td>1.096267</td>\n",
       "      <td>...</td>\n",
       "      <td>0.243427</td>\n",
       "      <td>-0.510646</td>\n",
       "      <td>1.237370</td>\n",
       "      <td>0.022804</td>\n",
       "      <td>1.116506</td>\n",
       "      <td>0.971782</td>\n",
       "      <td>1.379656</td>\n",
       "      <td>1.173841</td>\n",
       "      <td>0.654765</td>\n",
       "      <td>0.439765</td>\n",
       "    </tr>\n",
       "  </tbody>\n",
       "</table>\n",
       "<p>27796 rows × 1399 columns</p>\n",
       "</div>"
      ],
      "text/plain": [
       "            sig_id cp_type  cp_time cp_dose       g-0       g-1       g-2  \\\n",
       "0     id_000644bb2  trt_cp       24      D1  1.134849  0.907687 -0.416385   \n",
       "1     id_000779bfc  trt_cp       72      D1  0.119282  0.681738  0.272399   \n",
       "2     id_000a6266a  trt_cp       48      D1  0.779973  0.946463  1.425350   \n",
       "3     id_0015fd391  trt_cp       48      D1 -0.734910 -0.274641 -0.438509   \n",
       "4     id_001626bd3  trt_cp       72      D2 -0.452718 -0.477513  0.972316   \n",
       "...            ...     ...      ...     ...       ...       ...       ...   \n",
       "3977  id_ff7004b87  trt_cp       24      D1  0.599272 -0.691298  2.335275   \n",
       "3978  id_ff925dd0d  trt_cp       24      D1 -0.844395 -0.282043  2.006827   \n",
       "3979  id_ffb710450  trt_cp       72      D1 -0.563702 -0.146343  0.232721   \n",
       "3980  id_ffbb869f2  trt_cp       48      D2 -1.591078 -1.924736 -0.619409   \n",
       "3981  id_ffd5800b6  trt_cp       72      D1 -0.740040  0.509977  0.308699   \n",
       "\n",
       "           g-3       g-4       g-5  ...  pca_C-50  pca_C-51  pca_C-52  \\\n",
       "0    -0.966814 -0.254723 -1.017473  ... -0.514146  0.727106  0.631370   \n",
       "1     0.080113  1.205169  0.686517  ... -1.439262  0.508808  1.712656   \n",
       "2    -0.132928 -0.006122  1.492493  ... -0.491030  0.259354 -0.724947   \n",
       "3     0.759097  2.346330 -0.858153  ...  0.545759  0.197091 -0.058694   \n",
       "4     0.970731  1.463427 -0.869555  ...  0.774619  0.630446  0.514879   \n",
       "...        ...       ...       ...  ...       ...       ...       ...   \n",
       "3977 -0.965903  1.073011  1.784340  ...  0.547616  0.375451 -0.789073   \n",
       "3978  0.507512  0.643034  0.434686  ... -0.182719  0.482303 -0.059722   \n",
       "3979 -1.052568  0.066341  0.635259  ...  0.365366 -0.406966  0.172072   \n",
       "3980  1.321092 -1.622643 -0.263479  ...  1.210053  0.023657  0.814503   \n",
       "3981 -0.080621 -0.080190  1.096267  ...  0.243427 -0.510646  1.237370   \n",
       "\n",
       "      pca_C-53  pca_C-54  pca_C-55  pca_C-56  pca_C-57  pca_C-58  pca_C-59  \n",
       "0     0.588790 -0.623881 -0.584221  0.139658 -0.748875 -0.090711  0.508949  \n",
       "1    -0.095448 -0.052959 -0.427382 -0.789533 -0.677906 -0.006642  0.581791  \n",
       "2     0.138275 -0.128793 -1.059011 -1.629201  0.177806 -0.776725 -0.204851  \n",
       "3     0.616253 -0.000931  0.135783 -0.326965  0.131044  0.061892 -0.054619  \n",
       "4    -0.217948 -0.435192  0.350271 -2.249275 -1.029288  0.098284 -0.397215  \n",
       "...        ...       ...       ...       ...       ...       ...       ...  \n",
       "3977  0.444972 -0.369285 -0.345567 -0.836058 -0.262109 -0.338685  0.761653  \n",
       "3978 -0.447048  0.031236 -0.097593  1.001712 -0.248932  0.681888  1.311962  \n",
       "3979 -0.337644  0.337394 -0.835286  0.458107  0.592310 -0.137111  0.143073  \n",
       "3980 -0.778416  0.715037  0.284688 -1.656575 -0.538254 -1.241811 -0.748269  \n",
       "3981  0.022804  1.116506  0.971782  1.379656  1.173841  0.654765  0.439765  \n",
       "\n",
       "[27796 rows x 1399 columns]"
      ]
     },
     "execution_count": 17,
     "metadata": {},
     "output_type": "execute_result"
    }
   ],
   "source": [
    "data = train_features.append(test_features)\n",
    "data"
   ]
  },
  {
   "cell_type": "code",
   "execution_count": 18,
   "metadata": {
    "execution": {
     "iopub.execute_input": "2021-01-17T21:01:46.483953Z",
     "iopub.status.busy": "2021-01-17T21:01:46.482813Z",
     "iopub.status.idle": "2021-01-17T21:01:46.964011Z",
     "shell.execute_reply": "2021-01-17T21:01:46.964457Z"
    },
    "papermill": {
     "duration": 0.61618,
     "end_time": "2021-01-17T21:01:46.964581",
     "exception": false,
     "start_time": "2021-01-17T21:01:46.348401",
     "status": "completed"
    },
    "tags": []
   },
   "outputs": [
    {
     "data": {
      "text/plain": [
       "(23814, 1014)"
      ]
     },
     "execution_count": 18,
     "metadata": {},
     "output_type": "execute_result"
    }
   ],
   "source": [
    "var_thresh = VarianceThreshold(VarianceThreshold_for_FS)\n",
    "data_transformed = var_thresh.fit_transform(data.iloc[:, 4:])\n",
    "\n",
    "train_features_transformed = data_transformed[ : train_features.shape[0]]\n",
    "test_features_transformed = data_transformed[-test_features.shape[0] : ]\n",
    "\n",
    "\n",
    "train_features = pd.DataFrame(train_features[['sig_id','cp_type','cp_time','cp_dose']].values.reshape(-1, 4),\\\n",
    "                              columns=['sig_id','cp_type','cp_time','cp_dose'])\n",
    "\n",
    "train_features = pd.concat([train_features, pd.DataFrame(train_features_transformed)], axis=1)\n",
    "\n",
    "\n",
    "test_features = pd.DataFrame(test_features[['sig_id','cp_type','cp_time','cp_dose']].values.reshape(-1, 4),\\\n",
    "                             columns=['sig_id','cp_type','cp_time','cp_dose'])\n",
    "\n",
    "test_features = pd.concat([test_features, pd.DataFrame(test_features_transformed)], axis=1)\n",
    "\n",
    "train_features.shape"
   ]
  },
  {
   "cell_type": "code",
   "execution_count": 19,
   "metadata": {
    "execution": {
     "iopub.execute_input": "2021-01-17T21:01:47.025260Z",
     "iopub.status.busy": "2021-01-17T21:01:47.024726Z",
     "iopub.status.idle": "2021-01-17T21:01:47.039473Z",
     "shell.execute_reply": "2021-01-17T21:01:47.039041Z"
    },
    "papermill": {
     "duration": 0.050455,
     "end_time": "2021-01-17T21:01:47.039563",
     "exception": false,
     "start_time": "2021-01-17T21:01:46.989108",
     "status": "completed"
    },
    "tags": []
   },
   "outputs": [
    {
     "data": {
      "text/html": [
       "<div>\n",
       "<style scoped>\n",
       "    .dataframe tbody tr th:only-of-type {\n",
       "        vertical-align: middle;\n",
       "    }\n",
       "\n",
       "    .dataframe tbody tr th {\n",
       "        vertical-align: top;\n",
       "    }\n",
       "\n",
       "    .dataframe thead th {\n",
       "        text-align: right;\n",
       "    }\n",
       "</style>\n",
       "<table border=\"1\" class=\"dataframe\">\n",
       "  <thead>\n",
       "    <tr style=\"text-align: right;\">\n",
       "      <th></th>\n",
       "      <th>sig_id</th>\n",
       "      <th>cp_type</th>\n",
       "      <th>cp_time</th>\n",
       "      <th>cp_dose</th>\n",
       "      <th>0</th>\n",
       "      <th>1</th>\n",
       "      <th>2</th>\n",
       "      <th>3</th>\n",
       "      <th>4</th>\n",
       "      <th>5</th>\n",
       "      <th>...</th>\n",
       "      <th>1000</th>\n",
       "      <th>1001</th>\n",
       "      <th>1002</th>\n",
       "      <th>1003</th>\n",
       "      <th>1004</th>\n",
       "      <th>1005</th>\n",
       "      <th>1006</th>\n",
       "      <th>1007</th>\n",
       "      <th>1008</th>\n",
       "      <th>1009</th>\n",
       "    </tr>\n",
       "  </thead>\n",
       "  <tbody>\n",
       "    <tr>\n",
       "      <th>0</th>\n",
       "      <td>id_000644bb2</td>\n",
       "      <td>trt_cp</td>\n",
       "      <td>24</td>\n",
       "      <td>D1</td>\n",
       "      <td>1.134849</td>\n",
       "      <td>0.907687</td>\n",
       "      <td>-0.416385</td>\n",
       "      <td>-0.966814</td>\n",
       "      <td>-0.254723</td>\n",
       "      <td>-1.017473</td>\n",
       "      <td>...</td>\n",
       "      <td>-1.664511</td>\n",
       "      <td>0.850912</td>\n",
       "      <td>-1.954714</td>\n",
       "      <td>4.877738</td>\n",
       "      <td>1.539579</td>\n",
       "      <td>-1.558672</td>\n",
       "      <td>1.128901</td>\n",
       "      <td>0.913540</td>\n",
       "      <td>-1.087465</td>\n",
       "      <td>0.303792</td>\n",
       "    </tr>\n",
       "    <tr>\n",
       "      <th>1</th>\n",
       "      <td>id_000779bfc</td>\n",
       "      <td>trt_cp</td>\n",
       "      <td>72</td>\n",
       "      <td>D1</td>\n",
       "      <td>0.119282</td>\n",
       "      <td>0.681738</td>\n",
       "      <td>0.272399</td>\n",
       "      <td>0.080113</td>\n",
       "      <td>1.205169</td>\n",
       "      <td>0.686517</td>\n",
       "      <td>...</td>\n",
       "      <td>-0.027446</td>\n",
       "      <td>0.081617</td>\n",
       "      <td>0.540991</td>\n",
       "      <td>5.049432</td>\n",
       "      <td>-0.354706</td>\n",
       "      <td>0.010856</td>\n",
       "      <td>1.013321</td>\n",
       "      <td>-0.502233</td>\n",
       "      <td>0.711812</td>\n",
       "      <td>0.225988</td>\n",
       "    </tr>\n",
       "    <tr>\n",
       "      <th>2</th>\n",
       "      <td>id_000a6266a</td>\n",
       "      <td>trt_cp</td>\n",
       "      <td>48</td>\n",
       "      <td>D1</td>\n",
       "      <td>0.779973</td>\n",
       "      <td>0.946463</td>\n",
       "      <td>1.425350</td>\n",
       "      <td>-0.132928</td>\n",
       "      <td>-0.006122</td>\n",
       "      <td>1.492493</td>\n",
       "      <td>...</td>\n",
       "      <td>0.047053</td>\n",
       "      <td>1.384234</td>\n",
       "      <td>0.498396</td>\n",
       "      <td>-1.391302</td>\n",
       "      <td>0.309869</td>\n",
       "      <td>-0.278836</td>\n",
       "      <td>-0.191459</td>\n",
       "      <td>-0.086282</td>\n",
       "      <td>-0.680219</td>\n",
       "      <td>-0.883705</td>\n",
       "    </tr>\n",
       "    <tr>\n",
       "      <th>3</th>\n",
       "      <td>id_0015fd391</td>\n",
       "      <td>trt_cp</td>\n",
       "      <td>48</td>\n",
       "      <td>D1</td>\n",
       "      <td>-0.734910</td>\n",
       "      <td>-0.274641</td>\n",
       "      <td>-0.438509</td>\n",
       "      <td>0.759097</td>\n",
       "      <td>2.346330</td>\n",
       "      <td>-0.858153</td>\n",
       "      <td>...</td>\n",
       "      <td>0.196117</td>\n",
       "      <td>-0.745072</td>\n",
       "      <td>0.045870</td>\n",
       "      <td>-10.972282</td>\n",
       "      <td>1.157498</td>\n",
       "      <td>-0.947954</td>\n",
       "      <td>-1.585535</td>\n",
       "      <td>0.019060</td>\n",
       "      <td>-1.261338</td>\n",
       "      <td>0.387432</td>\n",
       "    </tr>\n",
       "    <tr>\n",
       "      <th>4</th>\n",
       "      <td>id_001626bd3</td>\n",
       "      <td>trt_cp</td>\n",
       "      <td>72</td>\n",
       "      <td>D2</td>\n",
       "      <td>-0.452718</td>\n",
       "      <td>-0.477513</td>\n",
       "      <td>0.972316</td>\n",
       "      <td>0.970731</td>\n",
       "      <td>1.463427</td>\n",
       "      <td>-0.869555</td>\n",
       "      <td>...</td>\n",
       "      <td>0.602852</td>\n",
       "      <td>2.202714</td>\n",
       "      <td>0.777727</td>\n",
       "      <td>3.599316</td>\n",
       "      <td>0.556439</td>\n",
       "      <td>-0.668258</td>\n",
       "      <td>-0.301835</td>\n",
       "      <td>0.302974</td>\n",
       "      <td>0.206142</td>\n",
       "      <td>-0.301955</td>\n",
       "    </tr>\n",
       "  </tbody>\n",
       "</table>\n",
       "<p>5 rows × 1014 columns</p>\n",
       "</div>"
      ],
      "text/plain": [
       "         sig_id cp_type cp_time cp_dose         0         1         2  \\\n",
       "0  id_000644bb2  trt_cp      24      D1  1.134849  0.907687 -0.416385   \n",
       "1  id_000779bfc  trt_cp      72      D1  0.119282  0.681738  0.272399   \n",
       "2  id_000a6266a  trt_cp      48      D1  0.779973  0.946463  1.425350   \n",
       "3  id_0015fd391  trt_cp      48      D1 -0.734910 -0.274641 -0.438509   \n",
       "4  id_001626bd3  trt_cp      72      D2 -0.452718 -0.477513  0.972316   \n",
       "\n",
       "          3         4         5  ...      1000      1001      1002       1003  \\\n",
       "0 -0.966814 -0.254723 -1.017473  ... -1.664511  0.850912 -1.954714   4.877738   \n",
       "1  0.080113  1.205169  0.686517  ... -0.027446  0.081617  0.540991   5.049432   \n",
       "2 -0.132928 -0.006122  1.492493  ...  0.047053  1.384234  0.498396  -1.391302   \n",
       "3  0.759097  2.346330 -0.858153  ...  0.196117 -0.745072  0.045870 -10.972282   \n",
       "4  0.970731  1.463427 -0.869555  ...  0.602852  2.202714  0.777727   3.599316   \n",
       "\n",
       "       1004      1005      1006      1007      1008      1009  \n",
       "0  1.539579 -1.558672  1.128901  0.913540 -1.087465  0.303792  \n",
       "1 -0.354706  0.010856  1.013321 -0.502233  0.711812  0.225988  \n",
       "2  0.309869 -0.278836 -0.191459 -0.086282 -0.680219 -0.883705  \n",
       "3  1.157498 -0.947954 -1.585535  0.019060 -1.261338  0.387432  \n",
       "4  0.556439 -0.668258 -0.301835  0.302974  0.206142 -0.301955  \n",
       "\n",
       "[5 rows x 1014 columns]"
      ]
     },
     "execution_count": 19,
     "metadata": {},
     "output_type": "execute_result"
    }
   ],
   "source": [
    "train_features.head(5)"
   ]
  },
  {
   "cell_type": "markdown",
   "metadata": {
    "papermill": {
     "duration": 0.025256,
     "end_time": "2021-01-17T21:01:47.090024",
     "exception": false,
     "start_time": "2021-01-17T21:01:47.064768",
     "status": "completed"
    },
    "tags": []
   },
   "source": [
    "# create datasets"
   ]
  },
  {
   "cell_type": "code",
   "execution_count": 20,
   "metadata": {
    "execution": {
     "iopub.execute_input": "2021-01-17T21:01:47.147971Z",
     "iopub.status.busy": "2021-01-17T21:01:47.146760Z",
     "iopub.status.idle": "2021-01-17T21:01:47.489364Z",
     "shell.execute_reply": "2021-01-17T21:01:47.488859Z"
    },
    "papermill": {
     "duration": 0.374405,
     "end_time": "2021-01-17T21:01:47.489473",
     "exception": false,
     "start_time": "2021-01-17T21:01:47.115068",
     "status": "completed"
    },
    "tags": []
   },
   "outputs": [],
   "source": [
    "# merge feature and and targets\n",
    "merged = train_features.merge(train_targets_scored, on='sig_id')\n",
    "\n",
    "# remove ctl_vehicle rows\n",
    "merged = merged[merged['cp_type']!='ctl_vehicle'].reset_index(drop=True)\n",
    "X_test = test_features[test_features['cp_type']!='ctl_vehicle'].reset_index(drop=True)\n",
    "\n",
    "# create X_train and y_train\n",
    "X_train = merged[train_features.columns]\n",
    "y_train = merged[train_targets_scored.columns]"
   ]
  },
  {
   "cell_type": "code",
   "execution_count": 21,
   "metadata": {
    "execution": {
     "iopub.execute_input": "2021-01-17T21:01:47.599229Z",
     "iopub.status.busy": "2021-01-17T21:01:47.545854Z",
     "iopub.status.idle": "2021-01-17T21:01:47.611742Z",
     "shell.execute_reply": "2021-01-17T21:01:47.611257Z"
    },
    "papermill": {
     "duration": 0.096685,
     "end_time": "2021-01-17T21:01:47.611840",
     "exception": false,
     "start_time": "2021-01-17T21:01:47.515155",
     "status": "completed"
    },
    "tags": []
   },
   "outputs": [],
   "source": [
    "# drop cp_type column\n",
    "X_train = X_train.drop('cp_type', axis=1)\n",
    "X_test = X_test.drop('cp_type', axis=1)"
   ]
  },
  {
   "cell_type": "code",
   "execution_count": 22,
   "metadata": {
    "execution": {
     "iopub.execute_input": "2021-01-17T21:01:47.669837Z",
     "iopub.status.busy": "2021-01-17T21:01:47.668837Z",
     "iopub.status.idle": "2021-01-17T21:01:47.746462Z",
     "shell.execute_reply": "2021-01-17T21:01:47.745973Z"
    },
    "papermill": {
     "duration": 0.108905,
     "end_time": "2021-01-17T21:01:47.746570",
     "exception": false,
     "start_time": "2021-01-17T21:01:47.637665",
     "status": "completed"
    },
    "tags": []
   },
   "outputs": [],
   "source": [
    "# drop sig_id column\n",
    "X_train = X_train.drop('sig_id', axis=1)\n",
    "X_test = X_test.drop('sig_id', axis=1)\n",
    "y_train = y_train.drop('sig_id', axis=1)"
   ]
  },
  {
   "cell_type": "code",
   "execution_count": 23,
   "metadata": {
    "execution": {
     "iopub.execute_input": "2021-01-17T21:01:47.819799Z",
     "iopub.status.busy": "2021-01-17T21:01:47.802261Z",
     "iopub.status.idle": "2021-01-17T21:01:47.823986Z",
     "shell.execute_reply": "2021-01-17T21:01:47.823577Z"
    },
    "papermill": {
     "duration": 0.051708,
     "end_time": "2021-01-17T21:01:47.824075",
     "exception": false,
     "start_time": "2021-01-17T21:01:47.772367",
     "status": "completed"
    },
    "tags": []
   },
   "outputs": [
    {
     "data": {
      "text/html": [
       "<div>\n",
       "<style scoped>\n",
       "    .dataframe tbody tr th:only-of-type {\n",
       "        vertical-align: middle;\n",
       "    }\n",
       "\n",
       "    .dataframe tbody tr th {\n",
       "        vertical-align: top;\n",
       "    }\n",
       "\n",
       "    .dataframe thead th {\n",
       "        text-align: right;\n",
       "    }\n",
       "</style>\n",
       "<table border=\"1\" class=\"dataframe\">\n",
       "  <thead>\n",
       "    <tr style=\"text-align: right;\">\n",
       "      <th></th>\n",
       "      <th>cp_time</th>\n",
       "      <th>cp_dose</th>\n",
       "      <th>0</th>\n",
       "      <th>1</th>\n",
       "      <th>2</th>\n",
       "      <th>3</th>\n",
       "      <th>4</th>\n",
       "      <th>5</th>\n",
       "      <th>6</th>\n",
       "      <th>7</th>\n",
       "      <th>...</th>\n",
       "      <th>1000</th>\n",
       "      <th>1001</th>\n",
       "      <th>1002</th>\n",
       "      <th>1003</th>\n",
       "      <th>1004</th>\n",
       "      <th>1005</th>\n",
       "      <th>1006</th>\n",
       "      <th>1007</th>\n",
       "      <th>1008</th>\n",
       "      <th>1009</th>\n",
       "    </tr>\n",
       "  </thead>\n",
       "  <tbody>\n",
       "    <tr>\n",
       "      <th>0</th>\n",
       "      <td>24</td>\n",
       "      <td>D1</td>\n",
       "      <td>1.134849</td>\n",
       "      <td>0.907687</td>\n",
       "      <td>-0.416385</td>\n",
       "      <td>-0.966814</td>\n",
       "      <td>-0.254723</td>\n",
       "      <td>-1.017473</td>\n",
       "      <td>-1.364787</td>\n",
       "      <td>-0.024007</td>\n",
       "      <td>...</td>\n",
       "      <td>-1.664511</td>\n",
       "      <td>0.850912</td>\n",
       "      <td>-1.954714</td>\n",
       "      <td>4.877738</td>\n",
       "      <td>1.539579</td>\n",
       "      <td>-1.558672</td>\n",
       "      <td>1.128901</td>\n",
       "      <td>0.913540</td>\n",
       "      <td>-1.087465</td>\n",
       "      <td>0.303792</td>\n",
       "    </tr>\n",
       "    <tr>\n",
       "      <th>1</th>\n",
       "      <td>72</td>\n",
       "      <td>D1</td>\n",
       "      <td>0.119282</td>\n",
       "      <td>0.681738</td>\n",
       "      <td>0.272399</td>\n",
       "      <td>0.080113</td>\n",
       "      <td>1.205169</td>\n",
       "      <td>0.686517</td>\n",
       "      <td>0.313396</td>\n",
       "      <td>0.555877</td>\n",
       "      <td>...</td>\n",
       "      <td>-0.027446</td>\n",
       "      <td>0.081617</td>\n",
       "      <td>0.540991</td>\n",
       "      <td>5.049432</td>\n",
       "      <td>-0.354706</td>\n",
       "      <td>0.010856</td>\n",
       "      <td>1.013321</td>\n",
       "      <td>-0.502233</td>\n",
       "      <td>0.711812</td>\n",
       "      <td>0.225988</td>\n",
       "    </tr>\n",
       "    <tr>\n",
       "      <th>2</th>\n",
       "      <td>48</td>\n",
       "      <td>D1</td>\n",
       "      <td>0.779973</td>\n",
       "      <td>0.946463</td>\n",
       "      <td>1.425350</td>\n",
       "      <td>-0.132928</td>\n",
       "      <td>-0.006122</td>\n",
       "      <td>1.492493</td>\n",
       "      <td>0.235577</td>\n",
       "      <td>0.365511</td>\n",
       "      <td>...</td>\n",
       "      <td>0.047053</td>\n",
       "      <td>1.384234</td>\n",
       "      <td>0.498396</td>\n",
       "      <td>-1.391302</td>\n",
       "      <td>0.309869</td>\n",
       "      <td>-0.278836</td>\n",
       "      <td>-0.191459</td>\n",
       "      <td>-0.086282</td>\n",
       "      <td>-0.680219</td>\n",
       "      <td>-0.883705</td>\n",
       "    </tr>\n",
       "    <tr>\n",
       "      <th>3</th>\n",
       "      <td>48</td>\n",
       "      <td>D1</td>\n",
       "      <td>-0.734910</td>\n",
       "      <td>-0.274641</td>\n",
       "      <td>-0.438509</td>\n",
       "      <td>0.759097</td>\n",
       "      <td>2.346330</td>\n",
       "      <td>-0.858153</td>\n",
       "      <td>-2.288417</td>\n",
       "      <td>0.309275</td>\n",
       "      <td>...</td>\n",
       "      <td>0.196117</td>\n",
       "      <td>-0.745072</td>\n",
       "      <td>0.045870</td>\n",
       "      <td>-10.972282</td>\n",
       "      <td>1.157498</td>\n",
       "      <td>-0.947954</td>\n",
       "      <td>-1.585535</td>\n",
       "      <td>0.019060</td>\n",
       "      <td>-1.261338</td>\n",
       "      <td>0.387432</td>\n",
       "    </tr>\n",
       "    <tr>\n",
       "      <th>4</th>\n",
       "      <td>72</td>\n",
       "      <td>D2</td>\n",
       "      <td>-0.452718</td>\n",
       "      <td>-0.477513</td>\n",
       "      <td>0.972316</td>\n",
       "      <td>0.970731</td>\n",
       "      <td>1.463427</td>\n",
       "      <td>-0.869555</td>\n",
       "      <td>-0.375501</td>\n",
       "      <td>-0.205867</td>\n",
       "      <td>...</td>\n",
       "      <td>0.602852</td>\n",
       "      <td>2.202714</td>\n",
       "      <td>0.777727</td>\n",
       "      <td>3.599316</td>\n",
       "      <td>0.556439</td>\n",
       "      <td>-0.668258</td>\n",
       "      <td>-0.301835</td>\n",
       "      <td>0.302974</td>\n",
       "      <td>0.206142</td>\n",
       "      <td>-0.301955</td>\n",
       "    </tr>\n",
       "  </tbody>\n",
       "</table>\n",
       "<p>5 rows × 1012 columns</p>\n",
       "</div>"
      ],
      "text/plain": [
       "  cp_time cp_dose         0         1         2         3         4         5  \\\n",
       "0      24      D1  1.134849  0.907687 -0.416385 -0.966814 -0.254723 -1.017473   \n",
       "1      72      D1  0.119282  0.681738  0.272399  0.080113  1.205169  0.686517   \n",
       "2      48      D1  0.779973  0.946463  1.425350 -0.132928 -0.006122  1.492493   \n",
       "3      48      D1 -0.734910 -0.274641 -0.438509  0.759097  2.346330 -0.858153   \n",
       "4      72      D2 -0.452718 -0.477513  0.972316  0.970731  1.463427 -0.869555   \n",
       "\n",
       "          6         7  ...      1000      1001      1002       1003      1004  \\\n",
       "0 -1.364787 -0.024007  ... -1.664511  0.850912 -1.954714   4.877738  1.539579   \n",
       "1  0.313396  0.555877  ... -0.027446  0.081617  0.540991   5.049432 -0.354706   \n",
       "2  0.235577  0.365511  ...  0.047053  1.384234  0.498396  -1.391302  0.309869   \n",
       "3 -2.288417  0.309275  ...  0.196117 -0.745072  0.045870 -10.972282  1.157498   \n",
       "4 -0.375501 -0.205867  ...  0.602852  2.202714  0.777727   3.599316  0.556439   \n",
       "\n",
       "       1005      1006      1007      1008      1009  \n",
       "0 -1.558672  1.128901  0.913540 -1.087465  0.303792  \n",
       "1  0.010856  1.013321 -0.502233  0.711812  0.225988  \n",
       "2 -0.278836 -0.191459 -0.086282 -0.680219 -0.883705  \n",
       "3 -0.947954 -1.585535  0.019060 -1.261338  0.387432  \n",
       "4 -0.668258 -0.301835  0.302974  0.206142 -0.301955  \n",
       "\n",
       "[5 rows x 1012 columns]"
      ]
     },
     "execution_count": 23,
     "metadata": {},
     "output_type": "execute_result"
    }
   ],
   "source": [
    "X_train.head(5)"
   ]
  },
  {
   "cell_type": "markdown",
   "metadata": {
    "papermill": {
     "duration": 0.026565,
     "end_time": "2021-01-17T21:01:47.876568",
     "exception": false,
     "start_time": "2021-01-17T21:01:47.850003",
     "status": "completed"
    },
    "tags": []
   },
   "source": [
    "# XGBoost with CountEncoder"
   ]
  },
  {
   "cell_type": "code",
   "execution_count": 24,
   "metadata": {
    "execution": {
     "iopub.execute_input": "2021-01-17T21:01:47.936866Z",
     "iopub.status.busy": "2021-01-17T21:01:47.936081Z",
     "iopub.status.idle": "2021-01-17T21:01:47.939160Z",
     "shell.execute_reply": "2021-01-17T21:01:47.938755Z"
    },
    "papermill": {
     "duration": 0.03569,
     "end_time": "2021-01-17T21:01:47.939269",
     "exception": false,
     "start_time": "2021-01-17T21:01:47.903579",
     "status": "completed"
    },
    "tags": []
   },
   "outputs": [],
   "source": [
    "classifier = MultiOutputClassifier(XGBClassifier(tree_method='gpu_hist'))\n",
    "#classifier = MultiOutputClassifier(XGBClassifier())\n",
    "\n",
    "clf = Pipeline([('encode', CountEncoder(cols=[\"cp_dose\",\"cp_time\"])),\n",
    "                ('classify', classifier)\n",
    "               ])"
   ]
  },
  {
   "cell_type": "markdown",
   "metadata": {
    "papermill": {
     "duration": 0.025995,
     "end_time": "2021-01-17T21:01:47.991673",
     "exception": false,
     "start_time": "2021-01-17T21:01:47.965678",
     "status": "completed"
    },
    "tags": []
   },
   "source": [
    "# CV predictions with MultilabelStratifiedKFold"
   ]
  },
  {
   "cell_type": "code",
   "execution_count": 25,
   "metadata": {
    "execution": {
     "iopub.execute_input": "2021-01-17T21:01:48.057416Z",
     "iopub.status.busy": "2021-01-17T21:01:48.055907Z",
     "iopub.status.idle": "2021-01-17T21:26:33.058216Z",
     "shell.execute_reply": "2021-01-17T21:26:33.059451Z"
    },
    "papermill": {
     "duration": 1485.041275,
     "end_time": "2021-01-17T21:26:33.059688",
     "exception": false,
     "start_time": "2021-01-17T21:01:48.018413",
     "status": "completed"
    },
    "tags": []
   },
   "outputs": [
    {
     "name": "stdout",
     "output_type": "stream",
     "text": [
      "Starting fold:  0\n",
      "Starting fold:  1\n",
      "Starting fold:  2\n",
      "Starting fold:  3\n",
      "Starting fold:  4\n",
      "[0.024061227940014317, 0.02433675124618263, 0.024202732004484775, 0.024545425003294725, 0.024049355829841326]\n",
      "Mean OOF loss across folds 0.024239098404763553\n",
      "STD OOF loss across folds 0.00018565275351707533\n"
     ]
    }
   ],
   "source": [
    "oof_preds = np.zeros(y_train.shape)\n",
    "test_preds = np.zeros((X_test.shape[0], y_train.shape[1]))\n",
    "oof_losses = []\n",
    "mskf = MultilabelStratifiedKFold(n_splits=NFOLDS, random_state=42)\n",
    "for fn, (trn_idx, val_idx) in enumerate(mskf.split(X_train, y_train)):\n",
    "    print('Starting fold: ', fn)\n",
    "    X_trn, X_val = X_train.iloc[trn_idx,:], X_train.iloc[val_idx,:]\n",
    "    y_trn, y_val = y_train.iloc[trn_idx,:], y_train.iloc[val_idx,:]\n",
    "    \n",
    "    clf.fit(X_trn, y_trn)\n",
    "    val_preds = clf.predict_proba(X_val) # list of preds per class\n",
    "    val_preds = np.array(val_preds)[:,:,1].T # take the positive class\n",
    "    oof_preds[val_idx] = val_preds\n",
    "    \n",
    "    loss = log_loss(np.ravel(y_val), np.ravel(val_preds))\n",
    "    oof_losses.append(loss)\n",
    "    preds = clf.predict_proba(X_test)\n",
    "    preds = np.array(preds)[:,:,1].T # take the positive class\n",
    "    test_preds += preds / NFOLDS\n",
    "    \n",
    "print(oof_losses)\n",
    "print('Mean OOF loss across folds', np.mean(oof_losses))\n",
    "print('STD OOF loss across folds', np.std(oof_losses))"
   ]
  },
  {
   "cell_type": "code",
   "execution_count": 26,
   "metadata": {
    "execution": {
     "iopub.execute_input": "2021-01-17T21:26:33.150143Z",
     "iopub.status.busy": "2021-01-17T21:26:33.149081Z",
     "iopub.status.idle": "2021-01-17T21:26:34.198736Z",
     "shell.execute_reply": "2021-01-17T21:26:34.197723Z"
    },
    "papermill": {
     "duration": 1.094197,
     "end_time": "2021-01-17T21:26:34.198840",
     "exception": false,
     "start_time": "2021-01-17T21:26:33.104643",
     "status": "completed"
    },
    "tags": []
   },
   "outputs": [
    {
     "name": "stdout",
     "output_type": "stream",
     "text": [
      "OOF log loss:  0.02423910244938239\n"
     ]
    }
   ],
   "source": [
    "print('OOF log loss: ', log_loss(np.ravel(y_train), np.ravel(oof_preds)))"
   ]
  },
  {
   "cell_type": "markdown",
   "metadata": {
    "papermill": {
     "duration": 0.028109,
     "end_time": "2021-01-17T21:26:34.255571",
     "exception": false,
     "start_time": "2021-01-17T21:26:34.227462",
     "status": "completed"
    },
    "tags": []
   },
   "source": [
    "# Analysis of OOF preds"
   ]
  },
  {
   "cell_type": "code",
   "execution_count": 27,
   "metadata": {
    "execution": {
     "iopub.execute_input": "2021-01-17T21:26:34.319607Z",
     "iopub.status.busy": "2021-01-17T21:26:34.318254Z",
     "iopub.status.idle": "2021-01-17T21:26:34.322577Z",
     "shell.execute_reply": "2021-01-17T21:26:34.322114Z"
    },
    "papermill": {
     "duration": 0.038534,
     "end_time": "2021-01-17T21:26:34.322655",
     "exception": false,
     "start_time": "2021-01-17T21:26:34.284121",
     "status": "completed"
    },
    "tags": []
   },
   "outputs": [],
   "source": [
    "# set control test preds to 0\n",
    "control_mask = test_features['cp_type']!='ctl_vehicle'\n",
    "\n",
    "dummy_preds = np.zeros((ss.shape[0],ss.shape[1]-1))\n",
    "dummy_preds[control_mask] = test_preds"
   ]
  },
  {
   "cell_type": "code",
   "execution_count": 28,
   "metadata": {
    "execution": {
     "iopub.execute_input": "2021-01-17T21:26:34.384533Z",
     "iopub.status.busy": "2021-01-17T21:26:34.383781Z",
     "iopub.status.idle": "2021-01-17T21:26:36.627763Z",
     "shell.execute_reply": "2021-01-17T21:26:36.626710Z"
    },
    "papermill": {
     "duration": 2.276758,
     "end_time": "2021-01-17T21:26:36.627877",
     "exception": false,
     "start_time": "2021-01-17T21:26:34.351119",
     "status": "completed"
    },
    "tags": []
   },
   "outputs": [],
   "source": [
    "# create the submission file\n",
    "ss.iloc[:,1:] = dummy_preds\n",
    "ss.to_csv('submission.csv', index=False)"
   ]
  }
 ],
 "metadata": {
  "kernelspec": {
   "display_name": "Python 3",
   "language": "python",
   "name": "python3"
  },
  "language_info": {
   "codemirror_mode": {
    "name": "ipython",
    "version": 3
   },
   "file_extension": ".py",
   "mimetype": "text/x-python",
   "name": "python",
   "nbconvert_exporter": "python",
   "pygments_lexer": "ipython3",
   "version": "3.7.6"
  },
  "papermill": {
   "duration": 1527.16946,
   "end_time": "2021-01-17T21:26:37.733723",
   "environment_variables": {},
   "exception": null,
   "input_path": "__notebook__.ipynb",
   "output_path": "__notebook__.ipynb",
   "parameters": {},
   "start_time": "2021-01-17T21:01:10.564263",
   "version": "2.1.0"
  }
 },
 "nbformat": 4,
 "nbformat_minor": 4
}
